{
 "cells": [
  {
   "cell_type": "code",
   "execution_count": 2,
   "metadata": {
    "collapsed": false
   },
   "outputs": [
    {
     "data": {
      "text/plain": [
       "error:java.net.UnknownHostException - s3.amazonaws.com"
      ]
     },
     "execution_count": 2,
     "metadata": {},
     "output_type": "execute_result"
    }
   ],
   "source": [
    "import org.apache.commons.io.IOUtils\n",
    "import java.net.URL\n",
    "import java.nio.charset.Charset\n",
    "\n",
    "val sqc = spark.sqlContext\n",
    "import sqc.implicits._\n",
    "\n",
    "val bankText = sc.parallelize(\n",
    "    IOUtils.toString(\n",
    "        new URL(\"https://s3.amazonaws.com/apache-zeppelin/tutorial/bank/bank.csv\"),\n",
    "        Charset.forName(\"utf8\")).split(\"\\n\"))\n",
    "        \n",
    "case class Bank(age: Integer, job: String, marital: String, education: String, balance: Integer)\n",
    "\n",
    "val bank = bankText.map(s => s.split(\";\")).filter(s => s(0) != \"\\\"age\\\"\").map(\n",
    "    s => Bank(s(0).toInt, \n",
    "            s(1).replaceAll(\"\\\"\", \"\"),\n",
    "            s(2).replaceAll(\"\\\"\", \"\"),\n",
    "            s(3).replaceAll(\"\\\"\", \"\"),\n",
    "            s(5).replaceAll(\"\\\"\", \"\").toInt\n",
    "        )\n",
    ").toDF()\n",
    "\n",
    "bank.printSchema()\n",
    "\n",
    "bank.show(10)"
   ]
  }
 ],
 "metadata": {
  "anaconda-cloud": {},
  "celltoolbar": "Raw Cell Format",
  "kernelspec": {
   "display_name": "Toree Gateway Kernel",
   "language": "",
   "name": "toree-gateway"
  },
  "language_info": {
   "file_extension": ".scala",
   "mimetype": "application/scala",
   "name": "scala"
  }
 },
 "nbformat": 4,
 "nbformat_minor": 0
}