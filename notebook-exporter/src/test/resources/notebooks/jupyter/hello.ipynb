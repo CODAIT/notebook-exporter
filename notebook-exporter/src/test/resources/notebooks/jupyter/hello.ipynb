{
 "cells": [
  {
   "cell_type": "code",
   "execution_count": 1,
   "metadata": {
    "ExecuteTime": {
     "end_time": "2018-03-24T06:51:36.995868Z",
     "start_time": "2018-03-24T06:51:36.683Z"
    }
   },
   "outputs": [
    {
     "data": {
      "text/plain": [
       "msg: String = hello\n",
       "user: String = john\n"
      ]
     },
     "metadata": {},
     "output_type": "display_data"
    }
   ],
   "source": [
    "val msg = \"hello\"\n",
    "val user = \"john\""
   ]
  },
  {
   "cell_type": "code",
   "execution_count": null,
   "metadata": {},
   "outputs": [],
   "source": []
  }
 ],
 "metadata": {
  "kernelspec": {
   "display_name": "Spark 2.2.0 - Scala",
   "language": "scala",
   "name": "spark_2.2.0_scala"
  },
  "language_info": {
   "codemirror_mode": "text/x-scala",
   "file_extension": ".scala",
   "mimetype": "text/x-scala",
   "name": "scala",
   "pygments_lexer": "scala",
   "version": "2.11.8"
  }
 },
 "nbformat": 4,
 "nbformat_minor": 2
}
